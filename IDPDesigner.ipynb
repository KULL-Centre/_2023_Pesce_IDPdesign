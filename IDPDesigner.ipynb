{
  "nbformat": 4,
  "nbformat_minor": 0,
  "metadata": {
    "colab": {
      "provenance": [],
      "authorship_tag": "ABX9TyMvBgqDtl7u5JvAh3j+ncOA",
      "include_colab_link": true
    },
    "kernelspec": {
      "name": "python3",
      "display_name": "Python 3"
    },
    "language_info": {
      "name": "python"
    }
  },
  "cells": [
    {
      "cell_type": "markdown",
      "metadata": {
        "id": "view-in-github",
        "colab_type": "text"
      },
      "source": [
        "<a href=\"https://colab.research.google.com/github/fpesceKU/EnsembleLab/blob/main/IDPDesigner.ipynb\" target=\"_parent\"><img src=\"https://colab.research.google.com/assets/colab-badge.svg\" alt=\"Open In Colab\"/></a>"
      ]
    },
    {
      "cell_type": "code",
      "source": [
        "#@title <b>Preliminary operations (i)</b>\n",
        "import random\n",
        "import subprocess\n",
        "import os\n",
        "import pandas as pd\n",
        "pd.options.mode.chained_assignment = None\n",
        "import numpy as np\n",
        "import itertools\n",
        "from joblib import dump, load\n",
        "subprocess.run( 'pip install wget localcider==0.1.18'.split() )\n",
        "subprocess.run('pip uninstall scikit-learn -y'.split())\n",
        "subprocess.run('pip install scikit-learn==1.0.2'.split())\n",
        "import wget\n",
        "from localcider.sequenceParameters import SequenceParameters\n",
        "import matplotlib.pyplot as plt\n",
        "from google.colab import files\n",
        "from ipywidgets import IntProgress\n",
        "from IPython.display import display\n",
        "from IPython.display import clear_output\n",
        "\n",
        "url = 'https://github.com/KULL-Centre/_2023_Tesei_IDRome/blob/main'\n",
        "if os.path.exists('svr_model_nu.joblib') == False:\n",
        "  wget.download(url+'/svr_models/svr_model_nu.joblib?raw=true')\n",
        "if os.path.exists('residues.csv') == False:\n",
        "  wget.download(url+'/md_simulations/data/residues.csv?raw=true')\n",
        "\n",
        "def calc_seq_prop(seq,residues,pH=7.):\n",
        "    seq = list(seq).copy()\n",
        "    fasta_kappa = np.array(seq.copy())\n",
        "    N = len(seq)\n",
        "    r = residues.copy()\n",
        "\n",
        "    # calculate properties that do not depend on charges\n",
        "    fK = sum([seq.count(a) for a in ['K']])/N\n",
        "    fR = sum([seq.count(a) for a in ['R']])/N\n",
        "    fE = sum([seq.count(a) for a in ['E']])/N\n",
        "    fD = sum([seq.count(a) for a in ['D']])/N\n",
        "    faro = sum([seq.count(a) for a in ['W','Y','F']])/N\n",
        "    mean_lambda = np.mean(r.loc[seq].lambdas)\n",
        "\n",
        "    pairs = np.array(list(itertools.combinations(seq,2)))\n",
        "    pairs_indices = np.array(list(itertools.combinations(range(N),2)))\n",
        "    # calculate sequence separations\n",
        "    ij_dist = np.diff(pairs_indices,axis=1).flatten().astype(float)\n",
        "    # calculate lambda sums\n",
        "    ll = r.lambdas.loc[pairs[:,0]].values+r.lambdas.loc[pairs[:,1]].values\n",
        "    # calculate SHD\n",
        "    beta = -1\n",
        "    shd = np.sum(ll*np.power(np.abs(ij_dist),beta))/N\n",
        "\n",
        "    # fix charges\n",
        "    r.loc['X'] = r.loc[seq[0]]\n",
        "    r.loc['X','q'] = r.loc[seq[0],'q'] + 1.\n",
        "    seq[0] = 'X'\n",
        "    if r.loc['X','q'] > 0:\n",
        "        fasta_kappa[0] = 'K'\n",
        "    else:\n",
        "        fasta_kappa[0] = 'A'\n",
        "    r.loc['Z'] = r.loc[seq[-1]]\n",
        "    r.loc['Z','q'] = r.loc[seq[-1],'q'] - 1.\n",
        "    seq[-1] = 'Z'\n",
        "    if r.loc['Z','q'] < 0:\n",
        "        fasta_kappa[-1] = 'D'\n",
        "    else:\n",
        "        fasta_kappa[-1] = 'A'\n",
        "    Hc = 1/(1+10**(pH-6))\n",
        "    if Hc < 0.5:\n",
        "        r.loc['H', 'q'] = 0\n",
        "        fasta_kappa[np.where(np.array(seq) == 'H')[0]] = 'A'\n",
        "    elif Hc >= 0.5:\n",
        "        r.loc['H', 'q'] = 1\n",
        "        fasta_kappa[np.where(np.array(seq) == 'H')[0]] = 'K'\n",
        "\n",
        "    # calculate properties that depend on charges\n",
        "    pairs = np.array(list(itertools.combinations(seq,2)))\n",
        "    # calculate charge products\n",
        "    qq = r.q.loc[pairs[:,0]].values*r.q.loc[pairs[:,1]].values\n",
        "    # calculate SCD\n",
        "    scd = np.sum(qq*np.sqrt(ij_dist))/N\n",
        "    SeqOb = SequenceParameters(''.join(fasta_kappa))\n",
        "    kappa = SeqOb.get_kappa()\n",
        "    omega_aro = SeqOb.get_kappa_X(grp1=['Y','F','W'])\n",
        "    fcr = r.q.loc[seq].abs().mean()\n",
        "    ncpr = r.q.loc[seq].mean()\n",
        "\n",
        "    return pd.Series(data=[fK,fR,fE,fD,faro,scd,shd,kappa,omega_aro,fcr,mean_lambda,ncpr],\n",
        "                 index=['fK','fR','fE','fD','faro','SCD','SHD','kappa','omega_aro','FCR','mean_lambda','NCPR'])"
      ],
      "metadata": {
        "cellView": "form",
        "id": "Bf79jLltcs7c"
      },
      "execution_count": 2,
      "outputs": []
    },
    {
      "cell_type": "code",
      "execution_count": 3,
      "metadata": {
        "cellView": "form",
        "id": "Km_3JhLeaMej"
      },
      "outputs": [],
      "source": [
        "#@title <b>Preliminary operations (ii)</b>\n",
        "class Sequence:\n",
        "  aa = ['A','C','D','E','F','G','H','I','K','L','M','N','P','Q','R','S','T','V','W','Y']\n",
        "  def __init__(self, start_seq=None, length=None, pH=7.):\n",
        "    assert start_seq is not None or length is not None, \"Either initialize a starting sequence or specify a sequence length so that a random sequence is initialized!\"\n",
        "    self.pH = pH\n",
        "    if start_seq is None and length is not None:\n",
        "      self.sequence = random.choices(self.aa, k=length)\n",
        "    else:\n",
        "      self.sequence = list(start_seq)\n",
        "    self.length = len(self.sequence)\n",
        "\n",
        "    self.residues = pd.read_csv('residues.csv').set_index('one')\n",
        "    self.model_nu = load('svr_model_nu.joblib')\n",
        "\n",
        "  def get_sequence(self):\n",
        "    return ''.join(self.sequence)\n",
        "\n",
        "  def mutate(self, mode):\n",
        "    if mode == 'single_point':\n",
        "      self.sequence[random.randrange(len(self.sequence))] = random.choices(self.aa, k=1)[0]\n",
        "    if mode == 'swap_full':\n",
        "      a, b = random.randrange(len(self.sequence)), random.randrange(len(self.sequence))\n",
        "      self.sequence[b], self.sequence[a] = self.sequence[a], self.sequence[b]\n",
        "    if mode == 'swap_expr':\n",
        "      a, b = random.randrange(1,len(self.sequence)), random.randrange(1,len(self.sequence))\n",
        "      self.sequence[b], self.sequence[a] = self.sequence[a], self.sequence[b]\n",
        "\n",
        "  def featurizer(self):\n",
        "    self.features = calc_seq_prop(self.sequence,self.residues,self.pH)\n",
        "\n",
        "  def get_nu(self):\n",
        "    features_nu = ['SCD','SHD','kappa','FCR','mean_lambda']\n",
        "    self.featurizer()\n",
        "    return self.model_nu.predict(self.features.loc[features_nu].values.reshape(1, -1))[0]\n",
        "\n",
        "\n",
        "class MCMC(Sequence):\n",
        "  def __init__(self, mutation_mode, nu_target, start_seq=None, length=None, pH=7., c=0.003):\n",
        "    super().__init__(start_seq, length, pH)\n",
        "    self.memory = pd.DataFrame(columns=['fasta','nu','mc'])\n",
        "    self.memory.loc[0] = dict(fasta=self.sequence.copy(),\n",
        "                        nu=self.get_nu(),\n",
        "                        mc=True)\n",
        "    self.Features = pd.DataFrame(columns=['fK','fR','fE','fD','faro','SCD','SHD','kappa','omega_aro','FCR','mean_lambda','NCPR'])\n",
        "    self.Features.loc[0] = self.features.copy()\n",
        "    self.mode = mutation_mode\n",
        "    self.nu_target = nu_target\n",
        "    self.c = c\n",
        "\n",
        "  def step(self):\n",
        "    self.mutate(mode = self.mode)\n",
        "    self.memory.loc[self.memory.index.values[-1]+1] = dict(fasta=self.sequence.copy(),nu=self.get_nu(),mc=None)\n",
        "    self.Features.loc[self.Features.index.values[-1]+1] = self.features.copy()\n",
        "    lastmc = self.memory[(self.memory['mc']==True)].index[-1]\n",
        "    L = abs(self.memory.nu[self.memory.index.values[-1]] - self.nu_target) - abs(self.memory.nu[lastmc] - self.nu_target)\n",
        "\n",
        "    self.memory.mc[self.memory.index.values[-1]] = np.exp(L/-self.c) > random.random()\n",
        "\n",
        "    if self.memory.mc[self.memory.index.values[-1]] == False:\n",
        "      self.sequence = self.memory.fasta[lastmc].copy()\n",
        "    if len(self.memory) % (self.length*2) == 0:\n",
        "      self.c = self.c*0.99"
      ]
    },
    {
      "cell_type": "code",
      "source": [
        "#@title <b>Input sequence and parameters</b>\n",
        "NAME = \"Q9UHJ3_down\" #@param {type:\"string\"}\n",
        "SEQUENCE = \"VLTKTKYTHYYGKKKNKRIGRPPGGHSNLACALKKASKRRKRRKNVFVHKKKRSSASVDNTPAGSPQGSGGEDEDDPDEGDDDSLSEGSTSEQQDELQEESEMSEKKSCSSSPTQSEISTSLPPDRQRRKRELRTFSFSDDENKPPSPKEIRIEVAERLHLD\" #@param {type:\"string\"}\n",
        "nu_TARGET = 0 #@param {type:\"number\"}\n",
        "MUTATION_TYPE = 'swap_full' # @param [\"swap_full\", \"swap_expr\", \"single_point\"]\n",
        "CONTROL_PARAMETER = 0.00002 #@param {type:\"number\"}\n",
        "\n",
        "if \" \" in SEQUENCE:\n",
        "    SEQUENCE = ''.join(SEQUENCE.split())\n",
        "\n",
        "evo = MCMC(start_seq = SEQUENCE, mutation_mode=MUTATION_TYPE, nu_target=nu_TARGET, c=CONTROL_PARAMETER)"
      ],
      "metadata": {
        "cellView": "form",
        "id": "tQ7SWMvuR6MN"
      },
      "execution_count": 4,
      "outputs": []
    },
    {
      "cell_type": "code",
      "source": [
        "#@title <b>Evolve</b>\n",
        "STEPS = 4000 #@param {type:\"number\"}\n",
        "for i in range(STEPS):\n",
        "  evo.step()\n",
        "\n",
        "acc_rate = sum(evo.memory.mc.values)/len(evo.memory)\n",
        "print(f'Acceptance rate: {acc_rate}')\n",
        "\n",
        "plt.plot(evo.memory.nu.values)\n",
        "plt.xlabel('MCMC step')\n",
        "plt.ylabel(r'$\\nu$')\n",
        "plt.show()"
      ],
      "metadata": {
        "cellView": "form",
        "id": "QFAey3Ymt0V-"
      },
      "execution_count": null,
      "outputs": []
    },
    {
      "cell_type": "code",
      "source": [
        "#@title <b>Sequence features</b>\n",
        "evo.Features"
      ],
      "metadata": {
        "cellView": "form",
        "id": "PXHoXIG19v_z"
      },
      "execution_count": null,
      "outputs": []
    },
    {
      "cell_type": "code",
      "source": [
        "# Example for scatter plot of nu vs. sequence feature\n",
        "# You can replace \"SCD\" with other sequence features from the table above\n",
        "plt.scatter(evo.memory.nu, evo.Features.kappa)\n",
        "plt.show()"
      ],
      "metadata": {
        "id": "YqZDDQ5IGhYU"
      },
      "execution_count": null,
      "outputs": []
    },
    {
      "cell_type": "code",
      "source": [
        "# Example for histogram\n",
        "# You can replace \"memory.nu\" sequence features as indicated in the previous cell\n",
        "plt.hist(evo.Features.SCD, bins=100)\n",
        "plt.show()"
      ],
      "metadata": {
        "id": "SFbaOfRvGhil"
      },
      "execution_count": null,
      "outputs": []
    },
    {
      "cell_type": "code",
      "source": [
        "#@title <b>Download results</b>\n",
        "out = evo.Features.copy()\n",
        "out['fasta'] = [''.join(i) for i in evo.memory.fasta.values]\n",
        "out['nu'] = evo.memory.nu\n",
        "out.to_csv(f'{NAME}_designs.csv')\n",
        "files.download(f'{NAME}_designs.csv')"
      ],
      "metadata": {
        "cellView": "form",
        "id": "cY_3LhzbZbsC",
        "colab": {
          "base_uri": "https://localhost:8080/",
          "height": 17
        },
        "outputId": "38d60434-cce2-472c-ff10-0595a5b4c831"
      },
      "execution_count": 6,
      "outputs": [
        {
          "output_type": "display_data",
          "data": {
            "text/plain": [
              "<IPython.core.display.Javascript object>"
            ],
            "application/javascript": [
              "\n",
              "    async function download(id, filename, size) {\n",
              "      if (!google.colab.kernel.accessAllowed) {\n",
              "        return;\n",
              "      }\n",
              "      const div = document.createElement('div');\n",
              "      const label = document.createElement('label');\n",
              "      label.textContent = `Downloading \"${filename}\": `;\n",
              "      div.appendChild(label);\n",
              "      const progress = document.createElement('progress');\n",
              "      progress.max = size;\n",
              "      div.appendChild(progress);\n",
              "      document.body.appendChild(div);\n",
              "\n",
              "      const buffers = [];\n",
              "      let downloaded = 0;\n",
              "\n",
              "      const channel = await google.colab.kernel.comms.open(id);\n",
              "      // Send a message to notify the kernel that we're ready.\n",
              "      channel.send({})\n",
              "\n",
              "      for await (const message of channel.messages) {\n",
              "        // Send a message to notify the kernel that we're ready.\n",
              "        channel.send({})\n",
              "        if (message.buffers) {\n",
              "          for (const buffer of message.buffers) {\n",
              "            buffers.push(buffer);\n",
              "            downloaded += buffer.byteLength;\n",
              "            progress.value = downloaded;\n",
              "          }\n",
              "        }\n",
              "      }\n",
              "      const blob = new Blob(buffers, {type: 'application/binary'});\n",
              "      const a = document.createElement('a');\n",
              "      a.href = window.URL.createObjectURL(blob);\n",
              "      a.download = filename;\n",
              "      div.appendChild(a);\n",
              "      a.click();\n",
              "      div.remove();\n",
              "    }\n",
              "  "
            ]
          },
          "metadata": {}
        },
        {
          "output_type": "display_data",
          "data": {
            "text/plain": [
              "<IPython.core.display.Javascript object>"
            ],
            "application/javascript": [
              "download(\"download_b3e2d7a5-268a-4809-850f-c30e757bb837\", \"Q9UHJ3_down_designs.csv\", 1702793)"
            ]
          },
          "metadata": {}
        }
      ]
    }
  ]
}